{
 "cells": [
  {
   "cell_type": "markdown",
   "metadata": {},
   "source": [
    "# __Capstone Project - The Battle of Neighborhoods__"
   ]
  },
  {
   "cell_type": "markdown",
   "metadata": {},
   "source": [
    "## __Data__"
   ]
  },
  {
   "cell_type": "markdown",
   "metadata": {},
   "source": [
    "The dataset used in this analysis is gathered from the following various sources.\n",
    "\n",
    " - __Neighborhood location information of Toronto :__\n",
    "\n",
    "> Location information of Toronto neighborhoods is available from the previous assignment in this course, which contains the postal code, longitude and latitude data for each neighborhood in the city of Toronto.\n",
    "\n",
    "\n",
    " - __Neighborhood profile of Toronto :__\n",
    "\n",
    "> The neighborhood profile is obtained from the Census of Population. The profile collects data about age and sex, language, immigration and internal migration, ethnocultural diversity, housing, education, income, and labour, among which population, education, and income information is of interest in this analysis. Due to the fact that the Census is held across Canada every 5 years, data to be used is from the most recent Census in year 2016. \n",
    "\n",
    "> Data source : https://www.toronto.ca/city-government/data-research-maps/open-data/open-data-catalogue/#8c732154-5012-9afe-d0cd-ba3ffc813d5a\n",
    "\n",
    "\n",
    " - __Venue information of interest :__\n",
    "\n",
    "> Venue information of interest (i.e. restaurants and grocery stores) is obtained using the Foursquare API based on the longitude and latitude coordinates of the neighborhood. \n",
    "\n"
   ]
  }
 ],
 "metadata": {
  "kernelspec": {
   "display_name": "Python 3",
   "language": "python",
   "name": "python3"
  },
  "language_info": {
   "codemirror_mode": {
    "name": "ipython",
    "version": 3
   },
   "file_extension": ".py",
   "mimetype": "text/x-python",
   "name": "python",
   "nbconvert_exporter": "python",
   "pygments_lexer": "ipython3",
   "version": "3.6.8"
  }
 },
 "nbformat": 4,
 "nbformat_minor": 2
}

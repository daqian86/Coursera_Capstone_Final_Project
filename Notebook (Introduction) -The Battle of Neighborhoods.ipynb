{
 "cells": [
  {
   "cell_type": "markdown",
   "metadata": {},
   "source": [
    "# __Capstone Project - The Battle of Neighborhoods__"
   ]
  },
  {
   "cell_type": "markdown",
   "metadata": {},
   "source": [
    "## __Introduction__"
   ]
  },
  {
   "cell_type": "markdown",
   "metadata": {},
   "source": [
    "Ranked as one of the top counties to live in according to its unprecedented quality of life, public education system as well as medical facilities, Canada has been seeing a massive rise in the number of new immigrants over the past decades. When it comes to the place for newcomers to settle down, Toronto is always among the first destinations to consider. \n",
    "\n",
    "The objective of this project is to provide some guidance to those new immigrants who will be looking for a suitable neighborhood in Toronto for them to settle down, based on a comparative analysis on various features and amenities across different neighborhoods. It is understood that immigrants will pick their own neighborhood based on different criteria depending on their own characteristics and preferences. In this project, the analysis is aiming for those families with a particular focus on the income level and education background of the residents living in the neighborhood. A high income and education background is normally a reflection of the safety of the community and good manners of the residents. Some other common amenities such as restaurant and grocery stores nearby are also included in this analysis. This project can always be modified and customized for families who take into account other attributes as driving factors to decide on which neighborhood to settle down.\n",
    "\n"
   ]
  }
 ],
 "metadata": {
  "kernelspec": {
   "display_name": "Python 3",
   "language": "python",
   "name": "python3"
  },
  "language_info": {
   "codemirror_mode": {
    "name": "ipython",
    "version": 3
   },
   "file_extension": ".py",
   "mimetype": "text/x-python",
   "name": "python",
   "nbconvert_exporter": "python",
   "pygments_lexer": "ipython3",
   "version": "3.6.8"
  }
 },
 "nbformat": 4,
 "nbformat_minor": 2
}
